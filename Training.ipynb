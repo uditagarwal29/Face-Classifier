{
 "cells": [
  {
   "cell_type": "markdown",
   "metadata": {},
   "source": [
    "## Training"
   ]
  },
  {
   "cell_type": "code",
   "execution_count": 3,
   "metadata": {},
   "outputs": [
    {
     "name": "stdout",
     "output_type": "stream",
     "text": [
      "Enter the name of the person who is being scanned Juhi1\n",
      "1\n",
      "2\n",
      "3\n",
      "4\n",
      "5\n",
      "6\n",
      "7\n",
      "8\n",
      "9\n",
      "10\n",
      "11\n",
      "Data successfully Saved at C:\\Users\\user\\Desktop\\Python\\Notebooks\\My Projects\\Face Classifier\\Face Data\\\\Juhi1.npy\n"
     ]
    }
   ],
   "source": [
    "import cv2\n",
    "import numpy as np\n",
    "\n",
    "#Camera Initialisation\n",
    "cap = cv2.VideoCapture(0)\n",
    "\n",
    "#Face Detection\n",
    "face_cascade = cv2.CascadeClassifier(\"haarcascade_frontalface_alt.xml\")\n",
    "\n",
    "#Storing Face data information\n",
    "skip = 0\n",
    "face_data = []\n",
    "dataset_path = 'C:\\\\Users\\\\user\\\\Desktop\\\\Python\\\\Notebooks\\\\My Projects\\\\Face Classifier\\\\Face Data\\\\'\n",
    "file_name = input(\"Enter the name of the person who is being scanned \")\n",
    "\n",
    "while True:\n",
    "    ret, frame = cap.read()\n",
    "    if ret == False:\n",
    "        continue\n",
    "    \n",
    "    gray_frame = cv2.cvtColor(frame,cv2.COLOR_BGR2GRAY)\n",
    "    \n",
    "    faces = face_cascade.detectMultiScale(frame,1.3,5) # this will be a list of faces containing tuples\n",
    "                                                           # in format (x,y,w,h)\n",
    "    faces = sorted(faces,key=lambda f:f[2]*f[3]) # Sorting based on area (w,h)\n",
    "    \n",
    "    \n",
    "    # Drawing rectangle on a face\n",
    "    # Pick the last face because it is the largest face according to area(f[2]*f[3])    \n",
    "    for face in faces[-1:]:\n",
    "        x,y,w,h = face\n",
    "        cv2.rectangle(frame,(x,y),(x+w,y+h),(0,255,255),2)\n",
    "        \n",
    "        # Extract (CROP OUT THE REQ. FACE) : Region Of Interest\n",
    "        offset = 10 # Padding added to the boundary of cropped out face\n",
    "        face_section = frame[y-offset:y+h+offset,x-offset:x+w+offset]\n",
    "        face_section = cv2.resize(face_section,(100,100))\n",
    "        \n",
    "        \n",
    "        # Store every 10th face\n",
    "        skip+=1\n",
    "        if skip%10==0:\n",
    "            face_data.append(face_section)\n",
    "            print(len(face_data))\n",
    "            \n",
    "        \n",
    "    cv2.imshow(\"Frame\",frame) \n",
    "    cv2.imshow(\"Face Section\",face_section)\n",
    "    \n",
    "        \n",
    "    # Wait for user Input s, then you will stop the loop\n",
    "    key_pressed = cv2.waitKey(1) & 0xFF # for converting waitkey(32 bit) into 8 bit\n",
    "    if key_pressed == ord('s'):\n",
    "        break\n",
    "\n",
    "\n",
    "# Convert our face list array into a numpy array\n",
    "face_data = np.asarray(face_data )  #asarray to convert array into numpy array+-\n",
    "face_data = face_data.reshape((face_data.shape[0],-1)) # No. of rows should be same as the number of faces\n",
    "\n",
    "# Save data into file system\n",
    "np.save(dataset_path+file_name+'.npy',face_data)\n",
    "print(f\"Data successfully Saved at {dataset_path}\\\\{file_name}.npy\")\n",
    "\n",
    "cap.release()\n",
    "cv2.destroyAllWindows()\n"
   ]
  },
  {
   "cell_type": "code",
   "execution_count": null,
   "metadata": {},
   "outputs": [],
   "source": []
  },
  {
   "cell_type": "code",
   "execution_count": null,
   "metadata": {},
   "outputs": [],
   "source": []
  },
  {
   "cell_type": "code",
   "execution_count": null,
   "metadata": {},
   "outputs": [],
   "source": []
  }
 ],
 "metadata": {
  "kernelspec": {
   "display_name": "Python 3",
   "language": "python",
   "name": "python3"
  },
  "language_info": {
   "codemirror_mode": {
    "name": "ipython",
    "version": 3
   },
   "file_extension": ".py",
   "mimetype": "text/x-python",
   "name": "python",
   "nbconvert_exporter": "python",
   "pygments_lexer": "ipython3",
   "version": "3.7.7"
  }
 },
 "nbformat": 4,
 "nbformat_minor": 4
}
