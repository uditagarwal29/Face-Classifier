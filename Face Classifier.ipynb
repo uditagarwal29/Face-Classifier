{
 "cells": [
  {
   "cell_type": "markdown",
   "metadata": {},
   "source": [
    "# Face Classifier\n",
 
   ]
  },
  {
   "cell_type": "code",
   "execution_count": 9,
   "metadata": {},
   "outputs": [],
   "source": [
    "import cv2\n",
    "import numpy as np\n",
    "import os"
   ]
  },
  {
   "cell_type": "markdown",
   "metadata": {},
   "source": [
    "### KNN Algorithm"
   ]
  },
  {
   "cell_type": "code",
   "execution_count": 10,
   "metadata": {},
   "outputs": [],
   "source": [
    "def distance(v1,v2):  # takes 2 functions\n",
    "    return np.sqrt(sum((v1-v2)**2))\n",
    "    \n",
    "def knn(train,test,k=5):   # k is number of neighbours\n",
    "    \n",
    "    dist = []\n",
    "    \n",
    "    m = train.shape[0]  # total number of points\n",
    "    \n",
    "    for i in range(m):\n",
    "        \n",
    "        # Get the vector and label\n",
    "        ix = train[i , :-1]  # for features\n",
    "        iy = train[i , -1]  # for labels\n",
    "        \n",
    "        # Compute the distance from the test point\n",
    "        d = distance(test,ix)\n",
    "        dist.append([d, iy])\n",
    "            \n",
    "    # Sort based on distance and get top k       \n",
    "    dk = sorted(dist, key = lambda x: x[0])[:k]\n",
    "    \n",
    "    # Retrieve only the labels\n",
    "    labels = np.array(dk)[ : , -1]\n",
    "    \n",
    "    # Get frequencies of each label\n",
    "    output = np.unique(labels, return_counts=True)\n",
    "    \n",
    "    # Find max frequency and corresponding label\n",
    "    index = np.argmax(output[1])\n",
    "    \n",
    "    return output[0][index]\n"
   ]
  },
  {
   "cell_type": "markdown",
   "metadata": {},
   "source": [
    "### Data Prepration"
   ]
  },
  {
   "cell_type": "code",
   "execution_count": 11,
   "metadata": {},
   "outputs": [],
   "source": [
    "# Storing Face data information \n",
    "face_data = []\n",
    "dataset_path = 'C:\\\\Users\\\\user\\\\Desktop\\\\Python\\\\Notebooks\\\\My Projects\\\\Face Classifier\\\\Face Data\\\\'\n",
    "labels = []\n",
    "\n",
    "names = {} # Mapping between Id - name\n",
    "class_id = 0  # Labels for the give file\n",
    "names = {} # Mapping between Id - name\n",
    "\n",
    "# Data Prepration\n",
    "\n",
    "for fx in os.listdir(dataset_path):# Iterates over files in dataset_poth\n",
    "    if fx.endswith('.npy'):\n",
    "        \n",
    "        # Create a mapping btw class_id and names\n",
    "        names[class_id] = fx[:-4] # Extracting the name\n",
    "        data_item = np.load(dataset_path+fx) # Loads the contents of the file dataset_path/fx.npy\n",
    "        face_data.append(data_item) \n",
    "        \n",
    "        #Create Labels for the class\n",
    "        target = class_id*np.ones((data_item.shape[0],))\n",
    "        class_id+=1\n",
    "        labels.append(target)\n",
    "        \n",
    "face_dataset = np.concatenate(face_data,axis=0)  # Concatenate all the items of the list (along rows)\n",
    "face_labels = np.concatenate(labels,axis=0).reshape((-1,1))\n",
    "\n",
    "trainset = np.concatenate((face_dataset,face_labels),axis=1) # axis=1 because we want to append face_labels\n",
    "                                                             # as a new column\n",
    "        "
   ]
  },
  {
   "cell_type": "markdown",
   "metadata": {},
   "source": [
    "### Testing"
   ]
  },
  {
   "cell_type": "code",
   "execution_count": 12,
   "metadata": {},
   "outputs": [],
   "source": [
    "\n",
    "#Camera Initialisation\n",
    "cap = cv2.VideoCapture(0)\n",
    "\n",
    "#Face Detection\n",
    "face_cascade = cv2.CascadeClassifier(\"haarcascade_frontalface_alt.xml\")\n",
    "\n",
    "while True:\n",
    "    ret, frame = cap.read()\n",
    "    if ret == False:\n",
    "        continue\n",
    "    \n",
    "    gray_frame = cv2.cvtColor(frame,cv2.COLOR_BGR2GRAY)\n",
    "    \n",
    "    faces = face_cascade.detectMultiScale(frame,1.3,5) # this will be a list of faces containing tuples\n",
    "                                                           # in format (x,y,w,h)\n",
    "        \n",
    "    for face in faces[-1:]:\n",
    "        x,y,w,h = face\n",
    "\n",
    "        \n",
    "        # Getting the Region Of Interest\n",
    "        offset = 10 \n",
    "        face_section = frame[y-offset:y+h+offset,x-offset:x+w+offset]\n",
    "        face_section = cv2.resize(face_section,(100,100))\n",
    "        \n",
    "        #Predicted Label (out)\n",
    "        out = knn(trainset,face_section.flatten())\n",
    "        \n",
    "        #Display on the screen the names and rectangle around it\n",
    "        pred_names = names[int(out)]\n",
    "        cv2.putText(frame,pred_names,(x,y-10),cv2.FONT_HERSHEY_SIMPLEX,1,(255,0,0),2,cv2.LINE_AA)\n",
    "        cv2.rectangle(frame,(x,y),(x+w,y+h),(0,255,255),2)\n",
    "        \n",
    "        \n",
    "    cv2.imshow(\"Faces\",frame) \n",
    "    \n",
    "    \n",
    "        \n",
    "    # Wait for user Input s, then you will stop the loop\n",
    "    key_pressed = cv2.waitKey(1) & 0xFF # for converting waitkey(32 bit) into 8 bit\n",
    "    if key_pressed == ord('s'):\n",
    "        break\n",
    "\n",
    "cap.release()\n",
    "cv2.destroyAllWindows()"
   ]
  }
 ],
 "metadata": {
  "kernelspec": {
   "display_name": "Python 3",
   "language": "python",
   "name": "python3"
  },
  "language_info": {
   "codemirror_mode": {
    "name": "ipython",
    "version": 3
   },
   "file_extension": ".py",
   "mimetype": "text/x-python",
   "name": "python",
   "nbconvert_exporter": "python",
   "pygments_lexer": "ipython3",
   "version": "3.7.7"
  }
 },
 "nbformat": 4,
 "nbformat_minor": 4
}
